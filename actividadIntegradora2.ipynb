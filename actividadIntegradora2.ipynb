{
 "cells": [
  {
   "cell_type": "code",
   "execution_count": 23,
   "metadata": {},
   "outputs": [
    {
     "name": "stdout",
     "output_type": "stream",
     "text": [
      "Introduce el término de búsqueda: dog\n",
      "Dog: imágenes, fotos de stock y vectores | Shutterstock\n"
     ]
    }
   ],
   "source": [
    "from selenium import webdriver\n",
    "from selenium.webdriver.common.by import By\n",
    "from selenium.webdriver.common.keys import Keys\n",
    "from selenium.webdriver.support.ui import WebDriverWait\n",
    "from selenium.webdriver.support import expected_conditions as EC\n",
    "\n",
    "WAIT_TIME = 30\n",
    "\n",
    "\n",
    "\n",
    "# class BasePageElement(object):\n",
    "#     def __init__(self, locator):\n",
    "#         self.locator = locator\n",
    "        \n",
    "#     def find(self, obj, value):\n",
    "#         driver = obj.driver\n",
    "#         WebDriverWait(driver, 100).until(\n",
    "#             lambda driver: driver.find_element_by_name(self.locator))\n",
    "#         driver.find_element_by_name(self.locator).clear()\n",
    "#         driver.find_element_by_name(self.locator).send_keys(value)\n",
    "#         driver.\n",
    "\n",
    "#     def __get__(self, obj, owner):\n",
    "#         driver = obj.driver\n",
    "#         WebDriverWait(driver, 100).until(\n",
    "#             lambda driver: driver.find_element_by_name(self.locator))\n",
    "#         element = driver.find_element_by_name(self.locator)\n",
    "#         return element.get_attribute(\"value\")\n",
    "\n",
    "class Page(object):\n",
    "    def __init__(self, driver):\n",
    "        self.driver = driver\n",
    "        self.wait = WebDriverWait(driver, WAIT_TIME)\n",
    "\n",
    "    def document_initialised(driver):\n",
    "        return driver.execute_script(\"return initialised\")\n",
    "\n",
    "# class SearchPage(Page):\n",
    "#     def go_next():\n",
    "#         elem = self.driver.find_element(By.NAME(\"searchterm\"))\n",
    "    \n",
    "class MainPage(Page):\n",
    "    def search_term(self, term):\n",
    "        elem = self.driver.find_element_by_name(\"searchterm\")\n",
    "        elem.clear()\n",
    "        elem.send_keys(term)\n",
    "        elem.send_keys(Keys.RETURN)\n",
    "        self.wait.until(lambda d: term in d.title.lower())\n",
    "        print(self.driver.title)\n",
    "\n",
    "        # elements = driver.find_elements(By.TAG_NAME, 'p')\n",
    "\n",
    "#for e in elements:\n",
    "#    print(e.text)\n",
    "#  attr = driver.switch_to.active_element.get_attribute(\"title\")\n",
    "#            driver.execute_script(\"window.scrollTo(0, document.body.scrollHeight)\") # Scroll to the bottom of the page\n",
    "#            time.sleep(4)                                                           # Wait 4 seconds for all the images to load\n",
    "# res = driver.find_element(By.CSS_SELECTOR, \"h1\").rect\n",
    "\n",
    "\n",
    "term = input(\"Introduce el término de búsqueda: \")\n",
    "\n",
    "with webdriver.Firefox() as driver:\n",
    "    driver.maximize_window()\n",
    "    driver.get(\"https://www.shuttersotck.com\")\n",
    "    main_page = MainPage(driver)\n",
    "    main_page.search_term(term)\n",
    "    search_page = SearchPage(driver)\n",
    "    # assert the search\n",
    "    \n",
    "    \n",
    "#searchPage.setFilters()\n",
    "#searchPage.getImages(links)\n",
    "\n"
   ]
  },
  {
   "cell_type": "code",
   "execution_count": null,
   "metadata": {},
   "outputs": [],
   "source": []
  }
 ],
 "metadata": {
  "kernelspec": {
   "display_name": "Python 3",
   "language": "python",
   "name": "python3"
  },
  "language_info": {
   "codemirror_mode": {
    "name": "ipython",
    "version": 3
   },
   "file_extension": ".py",
   "mimetype": "text/x-python",
   "name": "python",
   "nbconvert_exporter": "python",
   "pygments_lexer": "ipython3",
   "version": "3.8.5"
  }
 },
 "nbformat": 4,
 "nbformat_minor": 4
}
